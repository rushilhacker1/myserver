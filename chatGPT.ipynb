{
  "nbformat": 4,
  "nbformat_minor": 0,
  "metadata": {
    "colab": {
      "provenance": [],
      "include_colab_link": true
    },
    "kernelspec": {
      "name": "python3",
      "display_name": "Python 3"
    },
    "language_info": {
      "name": "python"
    },
    "accelerator": "GPU",
    "gpuClass": "standard"
  },
  "cells": [
    {
      "cell_type": "markdown",
      "metadata": {
        "id": "view-in-github",
        "colab_type": "text"
      },
      "source": [
        "<a href=\"https://colab.research.google.com/github/rushilhacker1/myserver/blob/main/chatGPT.ipynb\" target=\"_parent\"><img src=\"https://colab.research.google.com/assets/colab-badge.svg\" alt=\"Open In Colab\"/></a>"
      ]
    },
    {
      "cell_type": "code",
      "source": [
        "!pip3 install --pre torch torchvision torchaudio --index-url https://download.pytorch.org/whl/nightly/cu118"
      ],
      "metadata": {
        "id": "6jAgbq21QdMT"
      },
      "execution_count": null,
      "outputs": []
    },
    {
      "cell_type": "code",
      "source": [],
      "metadata": {
        "id": "1sncUdvyCgX0"
      },
      "execution_count": null,
      "outputs": []
    },
    {
      "cell_type": "code",
      "source": [
        "import torch\n",
        "from torch import nn, optim\n",
        "from torch.utils.data import DataLoader\n",
        "from torchvision import datasets, transforms\n",
        "\n",
        "# Check if GPU is available\n",
        "device = torch.device(\"cuda\" if torch.cuda.is_available() else \"cpu\")\n",
        "if(device == \"cpu\"):\n",
        "  torch.backends.openvino.enabled = True\n",
        "  torch.backends.openvino.device = device\n",
        "print(f\"Using device: {device}\")\n",
        "\n",
        "# Define hyperparameters\n",
        "input_size = 784\n",
        "hidden_sizes = [500] * 50\n",
        "output_size = 10\n",
        "learning_rate = 0.001\n",
        "batch_size = 64\n",
        "num_epochs = 20\n",
        "dropout_prob = 0.5\n",
        "\n",
        "# Define transform to normalize the data\n",
        "transform = transforms.Compose([\n",
        "    transforms.ToTensor(),\n",
        "    transforms.Normalize((0.5,), (0.5,))\n",
        "])\n",
        "\n",
        "# Load the data\n",
        "trainset = datasets.MNIST('~/.pytorch/MNIST_data/', download=True, train=True, transform=transform)\n",
        "trainloader = DataLoader(trainset, batch_size=batch_size, shuffle=True)\n",
        "\n",
        "# Define the model\n",
        "model = nn.Sequential(nn.Flatten(),\n",
        "                      nn.Linear(input_size, hidden_sizes[0]),\n",
        "                      nn.Sigmoid(),\n",
        "                      nn.Dropout(dropout_prob))\n",
        "for i in range(1, len(hidden_sizes)):\n",
        "    model.add_module(f\"hidden_layer_{i}\", nn.Linear(hidden_sizes[i-1], hidden_sizes[i]))\n",
        "    model.add_module(f\"sipoid_activation_{i}\", nn.Sigmoid())\n",
        "    model.add_module(f\"dropout_{i}\", nn.Dropout(dropout_prob))\n",
        "model.add_module(\"output_layer\", nn.Linear(hidden_sizes[-1], output_size))\n",
        "model.add_module(\"log_softmax\", nn.LogSoftmax(dim=1))\n",
        "model.to(device)\n",
        "\n",
        "# Define the optimizer and loss function\n",
        "criterion = nn.NLLLoss()\n",
        "optimizer = optim.Adam(model.parameters(), lr=learning_rate)\n",
        "\n",
        "# Train the model\n",
        "for epoch in range(num_epochs):\n",
        "    running_loss = 0\n",
        "    for images, labels in trainloader:\n",
        "        images, labels = images.to(device), labels.to(device)\n",
        "        optimizer.zero_grad()\n",
        "        output = model(images)\n",
        "        loss = criterion(output, labels)\n",
        "        loss.backward()\n",
        "        optimizer.step()\n",
        "        running_loss += loss.item()\n",
        "    else:\n",
        "        print(f\"Training loss: {running_loss/len(trainloader)}\")\n",
        "\n",
        "# Test the model\n",
        "testset = datasets.MNIST('~/.pytorch/MNIST_data/', download=True, train=False, transform=transform)\n",
        "testloader = DataLoader(testset, batch_size=batch_size, shuffle=True)\n",
        "\n",
        "correct_count, all_count = 0, 0\n",
        "with torch.no_grad():\n",
        "    for images, labels in testloader:\n",
        "        images, labels = images.to(device), labels.to(device)\n",
        "        output = model(images)\n",
        "        ps = torch.exp(output)\n",
        "        probab = list(ps.cpu().numpy())\n",
        "        predictions = probab.index(max(probab))\n",
        "        true_labels = labels.cpu().numpy()\n",
        "        correct_count += (predictions == true_labels).sum().item()\n",
        "        all_count += labels.size(0)\n",
        "    \n",
        "# Print top 5 error rate\n",
        "top5_error_rate = 1 - correct_count / all_count\n",
        "print(f\"Top 5 error rate: {top5_error_rate*100:.2f}%\")"
      ],
      "metadata": {
        "colab": {
          "base_uri": "https://localhost:8080/"
        },
        "id": "uwWPLp9xa45v",
        "outputId": "c6e4743a-e07e-4b21-ac29-43b0e8b2f933"
      },
      "execution_count": null,
      "outputs": [
        {
          "output_type": "stream",
          "name": "stdout",
          "text": [
            "Using device: cuda\n",
            "Training loss: 2.3099523581929806\n",
            "Training loss: 2.301979452816408\n",
            "Training loss: 2.301584086692664\n",
            "Training loss: 2.301547147826091\n",
            "Training loss: 2.3016249053259648\n",
            "Training loss: 2.301538769370203\n",
            "Training loss: 2.3019266453887353\n",
            "Training loss: 2.3016607695296885\n",
            "Training loss: 2.3018219282886365\n",
            "Training loss: 2.302099033713595\n",
            "Training loss: 2.301905387500202\n",
            "Training loss: 2.301753565192477\n",
            "Training loss: 2.302033801322807\n",
            "Training loss: 2.3020238073141592\n",
            "Training loss: 2.3021167781053067\n",
            "Training loss: 2.3017614286845682\n",
            "Training loss: 2.3018263281027136\n"
          ]
        }
      ]
    },
    {
      "cell_type": "code",
      "source": [
        "!nvidia-smi"
      ],
      "metadata": {
        "id": "p-NiTtrcAXaY",
        "colab": {
          "base_uri": "https://localhost:8080/"
        },
        "outputId": "eb01e3b5-82e6-4c54-8d97-e3f3d332185b"
      },
      "execution_count": 2,
      "outputs": [
        {
          "output_type": "stream",
          "name": "stdout",
          "text": [
            "Sun Feb 26 19:40:36 2023       \n",
            "+-----------------------------------------------------------------------------+\n",
            "| NVIDIA-SMI 525.85.12    Driver Version: 525.85.12    CUDA Version: 12.0     |\n",
            "|-------------------------------+----------------------+----------------------+\n",
            "| GPU  Name        Persistence-M| Bus-Id        Disp.A | Volatile Uncorr. ECC |\n",
            "| Fan  Temp  Perf  Pwr:Usage/Cap|         Memory-Usage | GPU-Util  Compute M. |\n",
            "|                               |                      |               MIG M. |\n",
            "|===============================+======================+======================|\n",
            "|   0  Tesla T4            Off  | 00000000:00:04.0 Off |                    0 |\n",
            "| N/A   34C    P8     9W /  70W |      3MiB / 15360MiB |      0%      Default |\n",
            "|                               |                      |                  N/A |\n",
            "+-------------------------------+----------------------+----------------------+\n",
            "                                                                               \n",
            "+-----------------------------------------------------------------------------+\n",
            "| Processes:                                                                  |\n",
            "|  GPU   GI   CI        PID   Type   Process name                  GPU Memory |\n",
            "|        ID   ID                                                   Usage      |\n",
            "|=============================================================================|\n",
            "|  No running processes found                                                 |\n",
            "+-----------------------------------------------------------------------------+\n"
          ]
        }
      ]
    },
    {
      "cell_type": "code",
      "source": [],
      "metadata": {
        "id": "iAmPASixPcU5"
      },
      "execution_count": null,
      "outputs": []
    }
  ]
}